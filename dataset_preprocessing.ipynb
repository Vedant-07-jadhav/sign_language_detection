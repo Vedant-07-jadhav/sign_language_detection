{
 "cells": [
  {
   "cell_type": "code",
   "execution_count": 1,
   "id": "cb3e5a7b",
   "metadata": {},
   "outputs": [],
   "source": [
    "import pandas as pd\n",
    "import os\n",
    "import shutil\n"
   ]
  },
  {
   "cell_type": "code",
   "execution_count": 2,
   "id": "c3d4472d",
   "metadata": {},
   "outputs": [
    {
     "name": "stdout",
     "output_type": "stream",
     "text": [
      "Train videos: 8311\n",
      "Test videos: 1414\n"
     ]
    }
   ],
   "source": [
    "# Read cleaned data\n",
    "df = pd.read_csv('Data/data_cleaned.csv')\n",
    "\n",
    "# Split into train and test\n",
    "df_train = df[df['split'] == 'train']\n",
    "df_test = df[df['split'] == 'test']\n",
    "\n",
    "# Get video IDs\n",
    "train_video_ids = df_train['video_id'].tolist()\n",
    "test_video_ids = df_test['video_id'].tolist()\n",
    "\n",
    "# Load gloss encoding\n",
    "df_coded_gloss = pd.read_csv('Data/wlasl_class_list.txt', sep='\\t', header=None, names=['code', 'gloss'])\n",
    "coded_dict = dict(zip(df_coded_gloss['code'], df_coded_gloss['gloss']))\n",
    "\n",
    "print(f\"Train videos: {len(train_video_ids)}\")\n",
    "print(f\"Test videos: {len(test_video_ids)}\")"
   ]
  },
  {
   "cell_type": "code",
   "execution_count": 3,
   "id": "850279c1",
   "metadata": {},
   "outputs": [],
   "source": [
    "# Define paths\n",
    "video_source = 'Data/processed_videos'\n",
    "output = 'data'\n",
    "\n",
    "videos_path_train = os.path.join(output, 'videos', 'train')\n",
    "videos_path_test = os.path.join(output, 'videos', 'test')\n",
    "\n",
    "labels_path_train = os.path.join(output, 'labels', 'train.txt')\n",
    "labels_path_test = os.path.join(output, 'labels', 'test.txt')\n",
    "\n",
    "# Create directories\n",
    "os.makedirs(videos_path_train, exist_ok=True)\n",
    "os.makedirs(videos_path_test, exist_ok=True)\n",
    "os.makedirs(os.path.dirname(labels_path_train), exist_ok=True)"
   ]
  },
  {
   "cell_type": "code",
   "execution_count": 4,
   "id": "79994677",
   "metadata": {},
   "outputs": [],
   "source": [
    "# Function to move files and create labels\n",
    "def move_files_and_create_labels(df, video_ids, video_source, labels_path, video_dest):\n",
    "    labels = []\n",
    "    moved = 0\n",
    "    missing = 0\n",
    "    \n",
    "    for video_id in video_ids:\n",
    "        video_id_str = str(video_id).zfill(5)\n",
    "        video_file = f\"{video_id_str}.mp4\"\n",
    "        video_path = os.path.join(video_source, video_file)\n",
    "        \n",
    "        if os.path.exists(video_path):\n",
    "            dest_path = os.path.join(video_dest, video_file)\n",
    "            shutil.copy2(video_path, dest_path)\n",
    "            \n",
    "            gloss_code = df.loc[df['video_id'] == video_id, 'gloss_encode'].values[0]\n",
    "            labels.append(f\"{video_file} {gloss_code}\")\n",
    "            moved += 1\n",
    "        else:\n",
    "            missing += 1\n",
    "    \n",
    "    # Write labels\n",
    "    with open(labels_path, 'w') as f:\n",
    "        for label in labels:\n",
    "            f.write(f\"{label}\\n\")\n",
    "    \n",
    "    return moved, missing"
   ]
  },
  {
   "cell_type": "code",
   "execution_count": null,
   "id": "81ee0adb",
   "metadata": {},
   "outputs": [
    {
     "name": "stdout",
     "output_type": "stream",
     "text": [
      "\n",
      "Train: 8311 moved, 0 missing\n",
      "Test: 1414 moved, 0 missing\n",
      "Done!\n"
     ]
    }
   ],
   "source": [
    "from pathlib import Path\n",
    "# Move train files\n",
    "train_moved, train_missing = move_files_and_create_labels(\n",
    "    df_train, train_video_ids, video_source, labels_path_train, videos_path_train\n",
    ")\n",
    "\n",
    "# Move test files\n",
    "test_moved, test_missing = move_files_and_create_labels(\n",
    "    df_test, test_video_ids, video_source, labels_path_test, videos_path_test\n",
    ")\n",
    "\n",
    "print(f\"\\nTrain: {train_moved} moved, {train_missing} missing\")\n",
    "print(f\"Test: {test_moved} moved, {test_missing} missing\")\n",
    "print(\"Done!\")"
   ]
  },
  {
   "cell_type": "code",
   "execution_count": 14,
   "id": "187daa97",
   "metadata": {},
   "outputs": [
    {
     "name": "stdout",
     "output_type": "stream",
     "text": [
      "Donee\n"
     ]
    }
   ],
   "source": [
    "import yaml\n",
    "from pathlib import Path\n",
    "code_gloss = df_coded_gloss['gloss'].to_list()\n",
    "yaml_data = {\n",
    "    'path': str(Path(output)),\n",
    "    'train': str(Path(output) / 'videos/train'),\n",
    "    'test': str(Path(output) / 'videos/test'),\n",
    "    'nc': len(code_gloss),  \n",
    "    'names': code_gloss \n",
    "}\n",
    "with open(Path(output) / 'dataset.yaml', 'w') as f:\n",
    "    yaml.dump(yaml_data, f)\n",
    "\n",
    "print('Donee')"
   ]
  },
  {
   "cell_type": "code",
   "execution_count": null,
   "id": "60d9f1b1",
   "metadata": {},
   "outputs": [],
   "source": []
  }
 ],
 "metadata": {
  "kernelspec": {
   "display_name": "CSDL",
   "language": "python",
   "name": "python3"
  },
  "language_info": {
   "codemirror_mode": {
    "name": "ipython",
    "version": 3
   },
   "file_extension": ".py",
   "mimetype": "text/x-python",
   "name": "python",
   "nbconvert_exporter": "python",
   "pygments_lexer": "ipython3",
   "version": "3.10.19"
  }
 },
 "nbformat": 4,
 "nbformat_minor": 5
}
